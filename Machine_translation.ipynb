{
 "cells": [
  {
   "cell_type": "code",
   "execution_count": 1,
   "id": "6eee2957-43c0-480e-8493-7f446afa0d19",
   "metadata": {
    "tags": []
   },
   "outputs": [
    {
     "name": "stderr",
     "output_type": "stream",
     "text": [
      "/data1/ljy/anaconda3/envs/torch/lib/python3.7/site-packages/tqdm/auto.py:21: TqdmWarning: IProgress not found. Please update jupyter and ipywidgets. See https://ipywidgets.readthedocs.io/en/stable/user_install.html\n",
      "  from .autonotebook import tqdm as notebook_tqdm\n"
     ]
    }
   ],
   "source": [
    "import os\n",
    "import time\n",
    "import copy\n",
    "import math\n",
    "import torch\n",
    "import numpy as np\n",
    "import torch.nn as nn\n",
    "import seaborn as sns\n",
    "import torch.nn.functional as F\n",
    "from collections import Counter\n",
    "from langconv import Converter\n",
    "from nltk import word_tokenize\n",
    "from torch.autograd import Variable\n",
    "import matplotlib.pyplot as plt"
   ]
  },
  {
   "cell_type": "code",
   "execution_count": 2,
   "id": "df0b4f71-da0a-42da-8485-c23d9831c797",
   "metadata": {
    "tags": []
   },
   "outputs": [],
   "source": [
    "PAD = 0                             # padding占位符的索引\n",
    "UNK = 1                             # 未登录词标识符的索引\n",
    "batch_size = 128                    # 批次大小\n",
    "epochs = 20                         # 训练轮数\n",
    "layers = 6                          # transformer中encoder、decoder层数\n",
    "h_num = 8                           # 多头注意力个数\n",
    "d_model = 256                       # 输入、输出词向量维数\n",
    "d_ff = 1024                         # feed forward全连接层维数\n",
    "dropout = 0.1                       # dropout比例\n",
    "max_length = 60                     # 语句最大长度\n",
    "\n",
    "TRAIN_FILE = './en-cn/train.txt'  # 训练集\n",
    "DEV_FILE = \"./en-cn/dev.txt\"      # 验证集\n",
    "save_path = 'save/model.pt'         # 模型保存路径\n",
    "device = torch.device('cuda' if torch.cuda.is_available else 'cpu')"
   ]
  },
  {
   "cell_type": "code",
   "execution_count": 3,
   "id": "9388509d-c673-4184-bc3b-8d7da5dc4ae4",
   "metadata": {
    "tags": []
   },
   "outputs": [],
   "source": [
    "def seq_padding(X, padding=PAD):\n",
    "    L = max([len(x) for x in X])\n",
    "    data = np.array([np.concatenate([x, [padding] * (L-len(x))]) if len(x) < L else x for x in X])\n",
    "    return data"
   ]
  },
  {
   "cell_type": "code",
   "execution_count": 4,
   "id": "c7f2f660-10c8-4f9c-b343-0ef4fd26f494",
   "metadata": {
    "tags": []
   },
   "outputs": [],
   "source": [
    "def cht_to_chs(x):\n",
    "    x = Converter('zh-hans').convert(x)\n",
    "    x.encode('utf-8')\n",
    "    return x"
   ]
  },
  {
   "cell_type": "code",
   "execution_count": 5,
   "id": "d43b5f98-c25b-4940-b4a8-d6be54a88516",
   "metadata": {
    "tags": []
   },
   "outputs": [],
   "source": [
    "def subsequent_mask(size):\n",
    "    \"Mask out subsequent positions.\"\n",
    "    # 设定subsequent_mask矩阵的shape\n",
    "    attn_shape = (1, size, size)\n",
    "    # 生成一个右上角(不含主对角线)为全1，左下角(含主对角线)为全0的subsequent_mask矩阵\n",
    "    subsequent_mask = np.triu(np.ones(attn_shape), k=1).astype('uint8')\n",
    "    # 返回一个右上角(不含主对角线)为全False，左下角(含主对角线)为全True的subsequent_mask矩阵\n",
    "    return torch.from_numpy(subsequent_mask) == 0\n",
    "\n",
    "class Batch:\n",
    "    def __init__(self, src, trg=None, pad=PAD):\n",
    "        src = torch.from_numpy(src).to(device).long()\n",
    "        trg = torch.from_numpy(trg).to(device).long()\n",
    "        self.src = src\n",
    "        self.src_mask = (src != pad).unsqueeze(-2)\n",
    "        if trg is not None:\n",
    "            self.trg = trg[:,:-1]\n",
    "            self.trg_y = trg[:, 1:]\n",
    "            self.trg_mask = self.make_std_mask(self.trg, pad)\n",
    "            self.ntokens = (self.trg_y != pad).data.sum()\n",
    "        \n",
    "    @staticmethod\n",
    "    def make_std_mask(tgt, pad):\n",
    "        tgt_mask = (tgt != pad).unsqueeze(-2)\n",
    "        tgt_mask = tgt_mask & Variable(subsequent_mask(tgt.size(-1)).type_as(tgt_mask.data))\n",
    "        return tgt_mask"
   ]
  },
  {
   "cell_type": "code",
   "execution_count": 6,
   "id": "6f6c637b-22ca-465e-a55a-8b70358593a3",
   "metadata": {
    "tags": []
   },
   "outputs": [],
   "source": [
    "class PrepareData:\n",
    "    def __init__(self, train_path, dev_path):\n",
    "        self.train_en, self.train_cn = self.load_data(train_path)\n",
    "        self.dev_en, self.dev_cn = self.load_data(dev_path)\n",
    "        \n",
    "        self.en_word_dict, self.en_total_word, self.en_word_index = self.build_dict(self.train_en)\n",
    "        self.cn_word_dict, self.cn_total_word, self.cn_word_index = self.build_dict(self.train_cn)\n",
    "\n",
    "        self.train_en, self.train_cn = self.word2id(self.train_en, self.train_cn, self.en_word_dict, self.cn_word_dict)\n",
    "        self.dev_en, self.dev_cn = self.word2id(self.dev_en, self.dev_cn, self.en_word_dict, self.cn_word_dict)\n",
    "        \n",
    "        self.train_data = self.split_batch(self.train_en, self.train_cn, batch_size)\n",
    "        self.dev_data = self.split_batch(self.dev_en, self.dev_cn, batch_size)\n",
    "        \n",
    "    def load_data(self, path):\n",
    "        en = []\n",
    "        cn = []\n",
    "        with open(path, mode='r', encoding='utf-8') as f:\n",
    "            for line in f.readlines():\n",
    "                sent_en, sent_cn = line.strip().split('\\t')\n",
    "                sent_en = sent_en.lower()\n",
    "                sent_cn = cht_to_chs(sent_cn)\n",
    "                sent_en = ['BOS'] + word_tokenize(sent_en) + ['EOS']\n",
    "                sent_cn = ['BOS'] + [char for char in sent_cn] + ['EOS']\n",
    "                en.append(sent_en)\n",
    "                cn.append(sent_cn)\n",
    "        return en, cn\n",
    "    def build_dict(self, X, max_words=5e4):\n",
    "        word_count = Counter([word for sent in X for word in sent])\n",
    "        ls = word_count.most_common(int(max_words))\n",
    "        total_words = len(ls) + 2\n",
    "        word_dict = {w[0]:index +2 for index, w in enumerate(ls)}\n",
    "        word_dict['UNK'] = UNK\n",
    "        word_dict['PAD'] = PAD\n",
    "        \n",
    "        index_dict = {v:k for k,v in word_dict.items()}\n",
    "        return word_dict, total_words, index_dict\n",
    "    def word2id(self, en, cn, en_dict, cn_dict, sort=True):\n",
    "        length = len(en)\n",
    "        out_en_ids = [[en_dict.get(word, UNK) for word in sent] for sent in en]\n",
    "        out_cn_ids = [[cn_dict.get(word, UNK) for word in sent] for sent in cn]\n",
    "        def len_argsort(seq):\n",
    "            return sorted(range(len(seq)), key = lambda x: len(seq[x]))\n",
    "        \n",
    "        if sort:\n",
    "            sorted_index = len_argsort(out_en_ids)\n",
    "            out_en_ids = [out_en_ids[idx] for idx in sorted_index]\n",
    "            out_cn_ids = [out_cn_ids[idx] for idx in sorted_index]\n",
    "        return out_en_ids, out_cn_ids\n",
    "    def split_batch(self, en, cn, batch_size, shuffle=True):\n",
    "        idx_list = np.arange(0, len(en), batch_size)\n",
    "        if shuffle:\n",
    "            np.random.shuffle(idx_list)\n",
    "        batch_indexs = []\n",
    "        for idx in idx_list:\n",
    "            batch_indexs.append(np.arange(idx, min(idx + batch_size, len(en))))\n",
    "        batches = []\n",
    "        for batch_index in batch_indexs:\n",
    "            batch_en = [en[index] for index in batch_index]\n",
    "            batch_cn = [cn[index] for index in batch_index]\n",
    "            batch_en = seq_padding(batch_en)\n",
    "            batch_cn = seq_padding(batch_cn)\n",
    "\n",
    "            batches.append(Batch(batch_en, batch_cn))\n",
    "        return batches\n",
    "\n"
   ]
  },
  {
   "cell_type": "code",
   "execution_count": 7,
   "id": "fc5a37fd-27b8-44e3-aa4a-f9a37bb420af",
   "metadata": {
    "tags": []
   },
   "outputs": [],
   "source": [
    "class Embeddings(nn.Module):\n",
    "    def __init__(self, d_model, vocab):\n",
    "        super(Embeddings, self).__init__()\n",
    "        \n",
    "        self.lut = nn.Embedding(vocab, d_model) #embedding层 词嵌入，把索引转换成词向量\n",
    "        self.model = d_model #维数\n",
    "    def forward(self, x):\n",
    "        return self.lut(x) * math.sqrt(self.model)\n",
    "\n",
    "class PositionalEncoding(nn.Module):\n",
    "    def __init__(self, d_model, dropout, max_len=5000):\n",
    "        super(PositionalEncoding, self).__init__()\n",
    "        self.dropout = nn.Dropout(dropout)\n",
    "        #位置编码矩阵。维度[max_len, embedding_dim]\n",
    "        PE = torch.zeros(max_len, d_model, device = device)\n",
    "        position = torch.arange(0.0, max_len, device = device)\n",
    "        position.unsqueeze_(1)\n",
    "        \n",
    "        div_term = torch.exp(torch.arange(0.0, d_model, 2, device = device)*(-math.log(1000)/d_model))\n",
    "        div_term.unsqueeze_(0)\n",
    "        \n",
    "        PE[:, 0 :: 2] = torch.sin(torch.mm(position, div_term))\n",
    "        PE[:, 0 :: 2] = torch.cos(torch.mm(position, div_term))\n",
    "        PE.unsqueeze_(0)\n",
    "        self.register_buffer('PE', PE)\n",
    "    def forward(self, x):\n",
    "        x += Variable(self.PE[:,: x.size(1), :], requires_grad=False)\n",
    "        return self.dropout(x)\n",
    "    "
   ]
  },
  {
   "cell_type": "code",
   "execution_count": 8,
   "id": "d5528273-e4dc-4c96-ae7f-6b44beb5d3fb",
   "metadata": {
    "tags": []
   },
   "outputs": [],
   "source": [
    "def clones(module, N):\n",
    "    return nn.ModuleList([\n",
    "        copy.deepcopy(module) for _ in range(N)\n",
    "    ])\n",
    "        "
   ]
  },
  {
   "cell_type": "code",
   "execution_count": 9,
   "id": "311c8ac1-ea0c-47a7-84cb-acb6ce201da5",
   "metadata": {
    "tags": []
   },
   "outputs": [],
   "source": [
    "def attention(Q, K, V, mask=None, dropout=None):\n",
    "    d_k = Q.size(-1)\n",
    "    scores = torch.matmul(Q, K.transpose(-2,-1))/math.sqrt(d_k)\n",
    "    if mask is not None:\n",
    "        scores = scores.masked_fill(mask==0, -1e9)\n",
    "    p_attn = F.softmax(scores, dim=-1)\n",
    "    if dropout is not None:\n",
    "        p_attn = dropout(p_attn)\n",
    "    return torch.matmul(p_attn, V), p_attn\n"
   ]
  },
  {
   "cell_type": "code",
   "execution_count": 10,
   "id": "6a0447b2-3077-4ca1-8857-45547874e07a",
   "metadata": {
    "tags": []
   },
   "outputs": [],
   "source": [
    "class MultiHeadAttention(nn.Module):\n",
    "    def __init__(self, h, d_model, fropout=0.1):\n",
    "        super(MultiHeadAttention, self).__init__()\n",
    "        \n",
    "        assert d_model % h == 0\n",
    "        self.d_k = d_model // h\n",
    "        self.h = h\n",
    "        self.linears = clones(nn.Linear(d_model, d_model), 4)\n",
    "        self.attn = None\n",
    "        self.dropout = nn.Dropout(dropout)\n",
    "        \n",
    "    def forward(self, q, k, v, mask=None):\n",
    "        if mask is not None:\n",
    "            mask = mask.unsqueeze(1)\n",
    "            \n",
    "        nbatches = q.size(0)\n",
    "        q, k, v = [\n",
    "        l(x).view(nbatches, -1, self.h, self.d_k).transpose(1, 2)\n",
    "        for l, x in zip(self.linears, (q, k, v))\n",
    "        ]\n",
    "        x, self.attn = attention(q, k, v, mask, dropout=self.dropout)\n",
    "        x = x.transpose(1,2).contiguous().view(nbatches, -1, self.h * self.d_k)\n",
    "        return self.linears[-1](x)"
   ]
  },
  {
   "cell_type": "code",
   "execution_count": 11,
   "id": "431fc228-4c3e-41b4-9a36-8160a259a1d5",
   "metadata": {
    "tags": []
   },
   "outputs": [],
   "source": [
    "class LayerNorm(nn.Module):\n",
    "    def __init__(self, features, eps=1e-6):\n",
    "        super(LayerNorm, self).__init__()\n",
    "        self.a_2 = nn.Parameter(torch.ones(features))\n",
    "        self.b_2 = nn.Parameter(torch.zeros(features))\n",
    "        \n",
    "        self.eps = eps\n",
    "        \n",
    "    def forward(self, x):\n",
    "        # 沿词向量方向计算均值和方差\n",
    "        mean = x.mean(dim=-1, keepdim=True)\n",
    "        std = x.std(dim=-1, keepdim=True)\n",
    "        # 沿词向量和语句序列方向计算均值和方差\n",
    "        # mean = x.mean(dim=[-2, -1], keepdim=True)\n",
    "        # std = x.std(dim=[-2, -1], keepdim=True)\n",
    "        # 归一化\n",
    "        x = (x - mean) / torch.sqrt(std ** 2 + self.eps)\n",
    "        return self.a_2 * x + self.b_2\n",
    "    \n",
    "class SublayerConnection(nn.Module):\n",
    "    def __init__(self, size, dropout):\n",
    "        super(SublayerConnection, self).__init__()\n",
    "        self.norm = LayerNorm(size)\n",
    "        self.dropout = nn.Dropout(dropout)\n",
    "        \n",
    "    def forward(self, x, sublayer):\n",
    "        x_ = self.norm(x)\n",
    "        x_ = sublayer(x_)\n",
    "        x_ = self.dropout(x_)\n",
    "        \n",
    "        return x + x_\n",
    "class PositionWiseFeedForward(nn.Module):\n",
    "    def __init__(self, d_model, d_ff, dropout=0.1):\n",
    "        super(PositionWiseFeedForward, self).__init__()\n",
    "        self.w_1 = nn.Linear(d_model, d_ff)\n",
    "        self.w_2 = nn.Linear(d_ff, d_model)\n",
    "        self.dropout = nn.Dropout(dropout)\n",
    "        \n",
    "    def forward(self, x):\n",
    "        x = self.w_1(x)\n",
    "        x = F.relu(x)\n",
    "        x = self.dropout(x)\n",
    "        x = self.w_2(x)\n",
    "        return x\n"
   ]
  },
  {
   "cell_type": "code",
   "execution_count": 12,
   "id": "7b174814-077f-4ff2-b002-9e1edececffa",
   "metadata": {
    "tags": []
   },
   "outputs": [
    {
     "data": {
      "image/png": "[encoded data removed]",
      "text/plain": [
       "<Figure size 640x480 with 2 Axes>"
      ]
     },
     "metadata": {},
     "output_type": "display_data"
    }
   ],
   "source": [
    "emb_dim = 64\n",
    "max_seq_len = 100\n",
    "seq_len = 20\n",
    "\n",
    "pe = PositionalEncoding(emb_dim, 0, max_seq_len)\n",
    "positional_encoding = pe(torch.zeros(1, seq_len, emb_dim, device=device))\n",
    "plt.figure()\n",
    "sns.heatmap(positional_encoding.squeeze().to('cpu'))\n",
    "plt.xlabel('i')\n",
    "plt.ylabel('pos')\n",
    "plt.show()"
   ]
  },
  {
   "cell_type": "code",
   "execution_count": 13,
   "id": "df07d379-a543-4296-933c-b5a9eef3b585",
   "metadata": {
    "tags": []
   },
   "outputs": [
    {
     "name": "stdout",
     "output_type": "stream",
     "text": [
      "(20, 8)\n"
     ]
    },
    {
     "data": {
      "image/png": "[encoded data removed]",
      "text/plain": [
       "<Figure size 640x480 with 1 Axes>"
      ]
     },
     "metadata": {},
     "output_type": "display_data"
    }
   ],
   "source": [
    "plt.figure()\n",
    "y = positional_encoding.to(\"cpu\").numpy()\n",
    "print(y[0, :, 0 : 64 : 8].shape)\n",
    "plt.plot(np.arange(seq_len), y[0, :, 0 : 64 : 8], \".\")\n",
    "plt.legend([\"dim %d\" % p for p in [0, 8, 16, 24, 32, 40, 48, 56]])\n",
    "plt.show()"
   ]
  },
  {
   "cell_type": "code",
   "execution_count": 14,
   "id": "937711ab-a40b-4e2c-beaa-99ee668f435d",
   "metadata": {
    "tags": []
   },
   "outputs": [],
   "source": [
    "class EncoderLayer(nn.Module):\n",
    "    def __init__(self, size, self_attn, feed_forward, dropout):\n",
    "        super(EncoderLayer, self).__init__()\n",
    "        self.self_attn = self_attn\n",
    "        self.feed_forward = feed_forward\n",
    "        # SublayerConnection作用连接multi和ffn\n",
    "        self.sublayer = clones(SublayerConnection(size, dropout), 2)\n",
    "        # d_model\n",
    "        self.size = size\n",
    "\n",
    "    def forward(self, x, mask):\n",
    "        # 将embedding层进行Multi head Attention\n",
    "        x = self.sublayer[0](x, lambda x: self.self_attn(x, x, x, mask))\n",
    "        # attn的结果直接作为下一层输入\n",
    "        return self.sublayer[1](x, self.feed_forward)\n",
    "\n",
    "class Encoder(nn.Module):\n",
    "    def __init__(self, layer, N):\n",
    "        super(Encoder, self).__init__()\n",
    "        # 复制N个编码器基本单元\n",
    "        self.layers = clones(layer, N)\n",
    "        # 层归一化\n",
    "        self.norm = LayerNorm(layer.size)\n",
    "\n",
    "    def forward(self, x, mask):\n",
    "        \"\"\"\n",
    "        循环编码器基本单元N次\n",
    "        \"\"\"\n",
    "        for layer in self.layers:\n",
    "            x = layer(x, mask)\n",
    "        return self.norm(x)\n",
    "\n",
    "class Decoder(nn.Module):\n",
    "    def __init__(self, layer, N):\n",
    "        super(Decoder, self).__init__()\n",
    "        self.layers = clones(layer, N)\n",
    "        self.norm = LayerNorm(layer.size)\n",
    "\n",
    "    def forward(self, x, memory, src_mask, tgt_mask):\n",
    "        \"\"\"\n",
    "        循环解码器基本单元N次\n",
    "        \"\"\"\n",
    "        for layer in self.layers:\n",
    "            x = layer(x, memory, src_mask, tgt_mask)\n",
    "        return self.norm(x)\n",
    "    \n",
    "class DecoderLayer(nn.Module):\n",
    "    def __init__(self, size, self_attn, src_attn, feed_forward, dropout):\n",
    "        super(DecoderLayer, self).__init__()\n",
    "        self.size = size\n",
    "        self.attn = self_attn\n",
    "        self.src_attn = src_attn\n",
    "        self.feed_forward = feed_forward\n",
    "        self.sublayer = clones(SublayerConnection(size, dropout), 3)\n",
    "        \n",
    "        \n",
    "    def forward(self, x, memory, src_mask, tgt_mask):\n",
    "        m = memory\n",
    "        x = self.sublayer[0](x, lambda x: self.attn(x, x, x, tgt_mask))\n",
    "        x = self.sublayer[1](x, lambda x: self.attn(x, m, m, src_mask))\n",
    "\n",
    "        return self.sublayer[2](x, self.feed_forward)"
   ]
  },
  {
   "cell_type": "code",
   "execution_count": 15,
   "id": "c3396637-19be-4d78-ad56-e28d02bad87b",
   "metadata": {
    "tags": []
   },
   "outputs": [],
   "source": [
    "class Generator(nn.Module):\n",
    "    \"\"\"\n",
    "    解码器输出经线性变换和softmax函数映射为下一时刻预测单词的概率分布\n",
    "    \"\"\"\n",
    "    def __init__(self, d_model, vocab):\n",
    "        super(Generator, self).__init__()\n",
    "        # decode后的结果，先进入一个全连接层变为词典大小的向量\n",
    "        self.proj = nn.Linear(d_model, vocab)\n",
    "\n",
    "    def forward(self, x):\n",
    "        # 然后再进行log_softmax操作(在softmax结果上再做多一次log运算)\n",
    "        return F.log_softmax(self.proj(x), dim=-1)\n",
    "    "
   ]
  },
  {
   "cell_type": "code",
   "execution_count": 16,
   "id": "2ca2edcb-61c9-4b29-bd75-ab674f3d0c45",
   "metadata": {
    "tags": []
   },
   "outputs": [],
   "source": [
    "class Transformer(nn.Module):\n",
    "    def __init__(self, encoder, decoder, src_embed, tgt_embed, generator):\n",
    "        super(Transformer, self).__init__()\n",
    "        self.encoder = encoder\n",
    "        self.decoder = decoder\n",
    "        self.src_embed = src_embed\n",
    "        self.tgt_embed = tgt_embed\n",
    "        self.generator = generator\n",
    "    def encode(self, src, src_mask):\n",
    "        x = self.encoder(self.src_embed(src), src_mask)\n",
    "        return x\n",
    "    def decode(self, memory, src_mask, tgt, tgt_mask):\n",
    "        x = self.decoder(self.tgt_embed(tgt), memory, src_mask, tgt_mask)\n",
    "        return x\n",
    "    def forward(self, src, tgt, src_mask, tgt_mask):\n",
    "        x = self.decode(self.encode(src, src_mask), src_mask, tgt, tgt_mask)\n",
    "        return x"
   ]
  },
  {
   "cell_type": "code",
   "execution_count": 17,
   "id": "89f9ff56-d2fa-4491-954b-f93e9166af15",
   "metadata": {
    "tags": []
   },
   "outputs": [
    {
     "name": "stdout",
     "output_type": "stream",
     "text": [
      "tensor([[0.0000, 0.1333, 0.6000, 0.1333, 0.1333],\n",
      "        [0.0000, 0.6000, 0.1333, 0.1333, 0.1333],\n",
      "        [0.0000, 0.0000, 0.0000, 0.0000, 0.0000]])\n"
     ]
    },
    {
     "data": {
      "text/plain": [
       "<matplotlib.image.AxesImage at 0x7f7bd56fee50>"
      ]
     },
     "execution_count": 17,
     "metadata": {},
     "output_type": "execute_result"
    },
    {
     "data": {
      "image/png": "[encoded data removed]",
      "text/plain": [
       "<Figure size 640x480 with 1 Axes>"
      ]
     },
     "metadata": {},
     "output_type": "display_data"
    }
   ],
   "source": [
    "def make_model(src_vocab, tgt_vocab, N=6, d_model=512, d_ff=2048, h=8, dropout=0.1):\n",
    "    c = copy.deepcopy\n",
    "    attn = MultiHeadAttention(h, d_model).to(device)\n",
    "    ff = PositionWiseFeedForward(d_model, d_ff, dropout).to(device)\n",
    "    position = PositionalEncoding(d_model, dropout).to(device)\n",
    "    model = Transformer(\n",
    "        Encoder(EncoderLayer(d_model, c(attn), c(ff), dropout).to(device), N).to(device),\n",
    "        Decoder(DecoderLayer(d_model, c(attn), c(attn), c(ff), dropout).to(device), N).to(device),\n",
    "        nn.Sequential(Embeddings(d_model, src_vocab).to(device), c(position)),\n",
    "        nn.Sequential(Embeddings(d_model, tgt_vocab).to(device), c(position)),\n",
    "        Generator(d_model, tgt_vocab)\n",
    "    ).to(device)\n",
    "    \n",
    "    for p in model.parameters():\n",
    "        if p.dim()>1:\n",
    "            nn.init.xavier_uniform_(p)\n",
    "    return model.to(device)\n",
    "\n",
    "class LabelSmoothing(nn.Module):\n",
    "    def __init__(self, size, padding_idx, smoothing=0.0):\n",
    "        super(LabelSmoothing, self).__init__()\n",
    "        self.criterion = nn.KLDivLoss(reduction='sum')\n",
    "        self.padding_idx = padding_idx\n",
    "        self.confidence = 1.0-smoothing\n",
    "        self.smoothing = smoothing\n",
    "        self.size = size\n",
    "        self.true_dist = None\n",
    "        \n",
    "    def forward(self, x, target):\n",
    "        assert x.size(1)==self.size\n",
    "        true_dist = x.data.clone()\n",
    "        true_dist.fill_(self.smoothing/(self.size - 2))\n",
    "        true_dist.scatter_(1, target.data.unsqueeze(1), self.confidence)\n",
    "        true_dist[:, self.padding_idx] = 0\n",
    "        mask = torch.nonzero(target.data==self.padding_idx)\n",
    "        if mask.dim()>0:\n",
    "            true_dist.index_fill_(0, mask.squeeze(), 0.0)\n",
    "        self.true_dist = true_dist\n",
    "        return self.criterion(x, Variable(true_dist, requires_grad=False))\n",
    "    \n",
    "    \n",
    "crit = LabelSmoothing(5, 0, 0.4)\n",
    "predict = torch.FloatTensor([[0, 0.2, 0.7, 0.1, 0],\n",
    "                             [0, 0.2, 0.7, 0.1, 0],\n",
    "                             [0, 0.2, 0.7, 0.1, 0]])\n",
    "v = crit(Variable(predict.log()),\n",
    "         Variable(torch.LongTensor([2, 1, 0])))\n",
    "print(crit.true_dist)\n",
    "plt.imshow(crit.true_dist)"
   ]
  },
  {
   "cell_type": "code",
   "execution_count": 18,
   "id": "6880294b-2b3d-46e0-95cf-7e0afd6d0c9b",
   "metadata": {
    "tags": []
   },
   "outputs": [],
   "source": [
    "class SimpleLossCompute:\n",
    "    \"\"\"\n",
    "    简单的计算损失和进行参数反向传播更新训练的函数\n",
    "    \"\"\"\n",
    "\n",
    "    def __init__(self, generator, criterion, opt=None):\n",
    "        self.generator = generator\n",
    "        self.criterion = criterion\n",
    "        self.opt = opt\n",
    "\n",
    "    def __call__(self, x, y, norm):\n",
    "        x = self.generator(x)\n",
    "        loss = self.criterion(x.contiguous().view(-1, x.size(-1)),\n",
    "                              y.contiguous().view(-1)) / norm\n",
    "        loss.backward()\n",
    "        if self.opt is not None:\n",
    "            self.opt.step()\n",
    "            self.opt.optimizer.zero_grad()\n",
    "        return loss.data.item() * norm.float()"
   ]
  },
  {
   "cell_type": "code",
   "execution_count": 19,
   "id": "b41f0498-5e2a-4833-b180-a7233715995e",
   "metadata": {
    "tags": []
   },
   "outputs": [],
   "source": [
    "class NoamOpt:\n",
    "    \"Optim wrapper that implements rate.\"\n",
    "\n",
    "    def __init__(self, model_size, factor, warmup, optimizer):\n",
    "        self.optimizer = optimizer\n",
    "        self._step = 0\n",
    "        self.warmup = warmup\n",
    "        self.factor = factor\n",
    "        self.model_size = model_size\n",
    "        self._rate = 0\n",
    "\n",
    "    def step(self):\n",
    "        \"Update parameters and rate\"\n",
    "        self._step += 1\n",
    "        rate = self.rate()\n",
    "        for p in self.optimizer.param_groups:\n",
    "            p['lr'] = rate\n",
    "        self._rate = rate\n",
    "        self.optimizer.step()\n",
    "\n",
    "    def rate(self, step=None):\n",
    "        \"Implement `lrate` above\"\n",
    "        if step is None:\n",
    "            step = self._step\n",
    "        return self.factor * (self.model_size ** (-0.5) * min(step ** (-0.5), step * self.warmup ** (-1.5)))\n"
   ]
  },
  {
   "cell_type": "code",
   "execution_count": 20,
   "id": "38e05e21-fcda-4ad1-b55f-0381efee49c0",
   "metadata": {
    "tags": []
   },
   "outputs": [
    {
     "data": {
      "text/plain": [
       "<matplotlib.legend.Legend at 0x7f7bd5762890>"
      ]
     },
     "execution_count": 20,
     "metadata": {},
     "output_type": "execute_result"
    },
    {
     "data": {
      "image/png": "[encoded data removed]",
      "text/plain": [
       "<Figure size 640x480 with 1 Axes>"
      ]
     },
     "metadata": {},
     "output_type": "display_data"
    }
   ],
   "source": [
    "def get_std_opt(model):\n",
    "    return NoamOpt(model.src_embed[0].d_model, 2, 4000,\n",
    "                   torch.optim.Adam(model.parameters(), lr=0, betas=(0.9, 0.98), eps=1e-9))\n",
    "\n",
    "# Three settings of the lrate hyperparameters.\n",
    "opts = [NoamOpt(512, 1, 4000, None),\n",
    "        NoamOpt(512, 1, 8000, None),\n",
    "        NoamOpt(256, 1, 4000, None)]\n",
    "plt.plot(np.arange(1, 20000), [[opt.rate(i) for opt in opts] for i in range(1, 20000)])\n",
    "plt.legend([\"512:4000\", \"512:8000\", \"256:4000\"])\n"
   ]
  },
  {
   "cell_type": "code",
   "execution_count": 24,
   "id": "5df8b7eb-27d7-46ed-a113-050eb8daee4d",
   "metadata": {
    "tags": []
   },
   "outputs": [],
   "source": [
    "from tqdm import tqdm, trange\n",
    "def run_epoch(data, model, loss_compute, epoch):\n",
    "    start = time.time()\n",
    "    total_tokens = 0.\n",
    "    total_loss = 0.\n",
    "    tokens = 0.\n",
    "\n",
    "    for i, batch in enumerate(data):\n",
    "        out = model(batch.src, batch.trg, batch.src_mask, batch.trg_mask)\n",
    "        loss = loss_compute(out, batch.trg_y, batch.ntokens)\n",
    "\n",
    "        total_loss += loss\n",
    "        total_tokens += batch.ntokens\n",
    "        tokens += batch.ntokens\n",
    "\n",
    "        if i % 50 == 1:\n",
    "            elapsed = time.time() - start\n",
    "            print(\"Epoch %d Batch: %d Loss: %f Tokens per Sec: %fs\" % (\n",
    "            epoch, i - 1, loss / batch.ntokens, (tokens.float() / elapsed / 1000.)))\n",
    "            start = time.time()\n",
    "            tokens = 0\n",
    "\n",
    "    return total_loss / total_tokens\n"
   ]
  },
  {
   "cell_type": "code",
   "execution_count": null,
   "id": "544d3ad4-e8dc-4880-952a-53af2dc3de80",
   "metadata": {
    "tags": []
   },
   "outputs": [
    {
     "name": "stdout",
     "output_type": "stream",
     "text": [
      "src_vocab 5493\n",
      "tgt_vocab 2537\n",
      ">>>>>>> start train\n"
     ]
    },
    {
     "name": "stderr",
     "output_type": "stream",
     "text": [
      "  0%|          | 0/20 [00:00<?, ?it/s]"
     ]
    },
    {
     "name": "stdout",
     "output_type": "stream",
     "text": [
      "Epoch 0 Batch: 0 Loss: 7.842962 Tokens per Sec: 23.288563s\n",
      "Epoch 0 Batch: 50 Loss: 6.858658 Tokens per Sec: 25.555380s\n",
      "Epoch 0 Batch: 100 Loss: 6.148924 Tokens per Sec: 25.714836s\n",
      ">>>>> Evaluate\n",
      "Epoch 0 Batch: 0 Loss: 5.411907 Tokens per Sec: 30.533617s\n",
      "<<<<< Evaluate loss: 5.812776\n"
     ]
    },
    {
     "name": "stderr",
     "output_type": "stream",
     "text": [
      "  5%|▌         | 1/20 [00:07<02:16,  7.16s/it]"
     ]
    },
    {
     "name": "stdout",
     "output_type": "stream",
     "text": [
      "****** Save model done... ******\n",
      "\n",
      "Epoch 1 Batch: 0 Loss: 5.858931 Tokens per Sec: 23.326242s\n",
      "Epoch 1 Batch: 50 Loss: 5.363670 Tokens per Sec: 25.160553s\n",
      "Epoch 1 Batch: 100 Loss: 5.024110 Tokens per Sec: 21.403990s\n",
      ">>>>> Evaluate\n",
      "Epoch 1 Batch: 0 Loss: 4.399774 Tokens per Sec: 30.965349s\n",
      "<<<<< Evaluate loss: 4.927863\n"
     ]
    },
    {
     "name": "stderr",
     "output_type": "stream",
     "text": [
      " 10%|█         | 2/20 [00:14<02:15,  7.54s/it]"
     ]
    },
    {
     "name": "stdout",
     "output_type": "stream",
     "text": [
      "****** Save model done... ******\n",
      "\n",
      "Epoch 2 Batch: 0 Loss: 4.939448 Tokens per Sec: 22.840836s\n",
      "Epoch 2 Batch: 50 Loss: 4.703244 Tokens per Sec: 24.939377s\n",
      "Epoch 2 Batch: 100 Loss: 4.409102 Tokens per Sec: 23.156397s\n",
      ">>>>> Evaluate\n",
      "Epoch 2 Batch: 0 Loss: 3.770160 Tokens per Sec: 32.692760s\n",
      "<<<<< Evaluate loss: 4.297311\n"
     ]
    },
    {
     "name": "stderr",
     "output_type": "stream",
     "text": [
      " 15%|█▌        | 3/20 [00:22<02:08,  7.56s/it]"
     ]
    },
    {
     "name": "stdout",
     "output_type": "stream",
     "text": [
      "****** Save model done... ******\n",
      "\n",
      "Epoch 3 Batch: 0 Loss: 4.479764 Tokens per Sec: 23.211985s\n",
      "Epoch 3 Batch: 50 Loss: 4.174612 Tokens per Sec: 24.286530s\n",
      "Epoch 3 Batch: 100 Loss: 3.890013 Tokens per Sec: 24.050226s\n",
      ">>>>> Evaluate\n",
      "Epoch 3 Batch: 0 Loss: 3.255098 Tokens per Sec: 31.283535s\n",
      "<<<<< Evaluate loss: 3.771543\n"
     ]
    },
    {
     "name": "stderr",
     "output_type": "stream",
     "text": [
      " 20%|██        | 4/20 [00:30<02:00,  7.55s/it]"
     ]
    },
    {
     "name": "stdout",
     "output_type": "stream",
     "text": [
      "****** Save model done... ******\n",
      "\n",
      "Epoch 4 Batch: 0 Loss: 3.974175 Tokens per Sec: 23.145432s\n",
      "Epoch 4 Batch: 50 Loss: 3.729547 Tokens per Sec: 24.711458s\n",
      "Epoch 4 Batch: 100 Loss: 3.417558 Tokens per Sec: 24.013779s\n",
      ">>>>> Evaluate\n",
      "Epoch 4 Batch: 0 Loss: 2.776688 Tokens per Sec: 27.546043s\n",
      "<<<<< Evaluate loss: 3.342062\n"
     ]
    },
    {
     "name": "stderr",
     "output_type": "stream",
     "text": [
      " 25%|██▌       | 5/20 [00:37<01:53,  7.54s/it]"
     ]
    },
    {
     "name": "stdout",
     "output_type": "stream",
     "text": [
      "****** Save model done... ******\n",
      "\n",
      "Epoch 5 Batch: 0 Loss: 3.605324 Tokens per Sec: 22.232729s\n",
      "Epoch 5 Batch: 50 Loss: 3.326755 Tokens per Sec: 24.592123s\n",
      "Epoch 5 Batch: 100 Loss: 3.100396 Tokens per Sec: 23.701141s\n",
      ">>>>> Evaluate\n",
      "Epoch 5 Batch: 0 Loss: 2.416098 Tokens per Sec: 29.245064s\n",
      "<<<<< Evaluate loss: 2.968869\n"
     ]
    },
    {
     "name": "stderr",
     "output_type": "stream",
     "text": [
      " 30%|███       | 6/20 [00:45<01:45,  7.52s/it]"
     ]
    },
    {
     "name": "stdout",
     "output_type": "stream",
     "text": [
      "****** Save model done... ******\n",
      "\n",
      "Epoch 6 Batch: 0 Loss: 3.310965 Tokens per Sec: 21.428083s\n",
      "Epoch 6 Batch: 50 Loss: 3.011942 Tokens per Sec: 24.458841s\n"
     ]
    }
   ],
   "source": [
    "def train(data, model, criterion, optimizer):\n",
    "    \"\"\"\n",
    "    训练并保存模型\n",
    "    \"\"\"\n",
    "    # 初始化模型在dev集上的最优Loss为一个较大值\n",
    "    best_dev_loss = 1e5\n",
    "\n",
    "    for epoch in trange(epochs):\n",
    "        # 模型训练\n",
    "        model.train()\n",
    "        run_epoch(data.train_data, model, SimpleLossCompute(model.generator, criterion, optimizer), epoch)\n",
    "        model.eval()\n",
    "\n",
    "        # 在dev集上进行loss评估\n",
    "        print('>>>>> Evaluate')\n",
    "        dev_loss = run_epoch(data.dev_data, model, SimpleLossCompute(model.generator, criterion, None), epoch)\n",
    "        print('<<<<< Evaluate loss: %f' % dev_loss)\n",
    "\n",
    "        # 如果当前epoch的模型在dev集上的loss优于之前记录的最优loss则保存当前模型，并更新最优loss值\n",
    "        if not os.path.exists(save_path):\n",
    "            os.mkdir('./save')\n",
    "        if dev_loss < best_dev_loss:\n",
    "            torch.save(model.state_dict(), save_path)\n",
    "            best_dev_loss = dev_loss\n",
    "            print('****** Save model done... ******')\n",
    "\n",
    "        print()\n",
    "\n",
    "\n",
    "# 数据预处理\n",
    "data = PrepareData(TRAIN_FILE, DEV_FILE)\n",
    "src_vocab = len(data.en_word_dict)\n",
    "tgt_vocab = len(data.cn_word_dict)\n",
    "print(\"src_vocab %d\" % src_vocab)\n",
    "print(\"tgt_vocab %d\" % tgt_vocab)\n",
    "\n",
    "# 初始化模型\n",
    "model = make_model(\n",
    "                    src_vocab,\n",
    "                    tgt_vocab,\n",
    "                    layers,\n",
    "                    d_model,\n",
    "                    d_ff,\n",
    "                    h_num,\n",
    "                    dropout\n",
    "                )\n",
    "\n",
    "# 训练\n",
    "print(\">>>>>>> start train\")\n",
    "train_start = time.time()\n",
    "criterion = LabelSmoothing(tgt_vocab, padding_idx = 0, smoothing= 0.0)\n",
    "optimizer = NoamOpt(d_model, 1, 2000, torch.optim.Adam(model.parameters(), lr=0, betas=(0.9,0.98), eps=1e-9))\n",
    "\n",
    "train(data, model, criterion, optimizer)\n",
    "print(f\"<<<<<<< finished train, cost {time.time()-train_start:.4f} seconds\")\n"
   ]
  },
  {
   "cell_type": "code",
   "execution_count": null,
   "id": "ee56a873-2205-48d2-8ec8-b36436e333f2",
   "metadata": {},
   "outputs": [],
   "source": []
  }
 ],
 "metadata": {
  "kernelspec": {
   "display_name": "Python 3 (ipykernel)",
   "language": "python",
   "name": "python3"
  },
  "language_info": {
   "codemirror_mode": {
    "name": "ipython",
    "version": 3
   },
   "file_extension": ".py",
   "mimetype": "text/x-python",
   "name": "python",
   "nbconvert_exporter": "python",
   "pygments_lexer": "ipython3",
   "version": "3.7.16"
  }
 },
 "nbformat": 4,
 "nbformat_minor": 5
}
